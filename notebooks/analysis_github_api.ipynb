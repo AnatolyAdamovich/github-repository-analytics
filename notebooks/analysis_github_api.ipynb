{
 "cells": [
  {
   "cell_type": "code",
   "execution_count": 1,
   "metadata": {},
   "outputs": [
    {
     "name": "stdout",
     "output_type": "stream",
     "text": [
      "Collecting requests\n",
      "  Using cached requests-2.32.3-py3-none-any.whl (64 kB)\n",
      "Collecting charset-normalizer<4,>=2\n",
      "  Using cached charset_normalizer-3.4.0-cp310-cp310-manylinux_2_17_x86_64.manylinux2014_x86_64.whl (144 kB)\n",
      "Collecting certifi>=2017.4.17\n",
      "  Using cached certifi-2024.8.30-py3-none-any.whl (167 kB)\n",
      "Collecting urllib3<3,>=1.21.1\n",
      "  Using cached urllib3-2.2.3-py3-none-any.whl (126 kB)\n",
      "Collecting idna<4,>=2.5\n",
      "  Using cached idna-3.10-py3-none-any.whl (70 kB)\n",
      "Installing collected packages: urllib3, idna, charset-normalizer, certifi, requests\n",
      "Successfully installed certifi-2024.8.30 charset-normalizer-3.4.0 idna-3.10 requests-2.32.3 urllib3-2.2.3\n"
     ]
    }
   ],
   "source": [
    "!pip3 install requests"
   ]
  },
  {
   "cell_type": "markdown",
   "metadata": {},
   "source": [
    "* https://docs.github.com/ru/rest/repos/repos?apiVersion=2022-11-28#list-repository-activities\n",
    "* https://docs.github.com/ru/rest/repos/repos?apiVersion=2022-11-28#get-a-repository:~:text=1%0A%20%20%7D%0A%7D-,Get%20a%20repository,-The%20parent%20and"
   ]
  },
  {
   "cell_type": "code",
   "execution_count": 1,
   "metadata": {},
   "outputs": [],
   "source": [
    "import requests"
   ]
  },
  {
   "cell_type": "code",
   "execution_count": 2,
   "metadata": {},
   "outputs": [],
   "source": [
    "repo_owner = \"alexmk7\"\n",
    "repo_name = \"nlp-2024\"\n",
    "access_token = \"<YOUR TOKEN>\""
   ]
  },
  {
   "cell_type": "code",
   "execution_count": 3,
   "metadata": {},
   "outputs": [],
   "source": [
    "url = f\"https://api.github.com/repos/{repo_owner}/{repo_name}/commits\"\n",
    "\n",
    "headers = {\n",
    "    \"Authorization\": f\"token {access_token}\",\n",
    "    \"Accept\": \"application/vnd.github+json\"\n",
    "}\n",
    "\n",
    "response = requests.get(url, headers=headers)"
   ]
  },
  {
   "cell_type": "code",
   "execution_count": 4,
   "metadata": {},
   "outputs": [
    {
     "data": {
      "text/plain": [
       "<Response [200]>"
      ]
     },
     "execution_count": 4,
     "metadata": {},
     "output_type": "execute_result"
    }
   ],
   "source": [
    "response"
   ]
  },
  {
   "cell_type": "code",
   "execution_count": 5,
   "metadata": {},
   "outputs": [
    {
     "data": {
      "text/plain": [
       "[{'sha': 'b640952f36dc2e7f7c3ff5e7df868692a1bc88a3',\n",
       "  'node_id': 'C_kwDOMvwEw9oAKGI2NDA5NTJmMzZkYzJlN2Y3YzNmZjVlN2RmODY4NjkyYTFiYzg4YTM',\n",
       "  'commit': {'author': {'name': 'AM',\n",
       "    'email': '',\n",
       "    'date': '2024-11-20T10:20:27Z'},\n",
       "   'committer': {'name': 'AM', 'email': '', 'date': '2024-11-20T10:20:27Z'},\n",
       "   'message': 'Task #3',\n",
       "   'tree': {'sha': '741b0fab2aa8d265e993368393e4de4b9a70acf7',\n",
       "    'url': 'https://api.github.com/repos/alexmk7/nlp-2024/git/trees/741b0fab2aa8d265e993368393e4de4b9a70acf7'},\n",
       "   'url': 'https://api.github.com/repos/alexmk7/nlp-2024/git/commits/b640952f36dc2e7f7c3ff5e7df868692a1bc88a3',\n",
       "   'comment_count': 0,\n",
       "   'verification': {'verified': False,\n",
       "    'reason': 'unsigned',\n",
       "    'signature': None,\n",
       "    'payload': None,\n",
       "    'verified_at': None}},\n",
       "  'url': 'https://api.github.com/repos/alexmk7/nlp-2024/commits/b640952f36dc2e7f7c3ff5e7df868692a1bc88a3',\n",
       "  'html_url': 'https://github.com/alexmk7/nlp-2024/commit/b640952f36dc2e7f7c3ff5e7df868692a1bc88a3',\n",
       "  'comments_url': 'https://api.github.com/repos/alexmk7/nlp-2024/commits/b640952f36dc2e7f7c3ff5e7df868692a1bc88a3/comments',\n",
       "  'author': {},\n",
       "  'committer': {},\n",
       "  'parents': [{'sha': 'aa8cc0c14ad805fb3603cc8255e3ea80b19ea66e',\n",
       "    'url': 'https://api.github.com/repos/alexmk7/nlp-2024/commits/aa8cc0c14ad805fb3603cc8255e3ea80b19ea66e',\n",
       "    'html_url': 'https://github.com/alexmk7/nlp-2024/commit/aa8cc0c14ad805fb3603cc8255e3ea80b19ea66e'}]},\n",
       " {'sha': 'aa8cc0c14ad805fb3603cc8255e3ea80b19ea66e',\n",
       "  'node_id': 'C_kwDOMvwEw9oAKGFhOGNjMGMxNGFkODA1ZmIzNjAzY2M4MjU1ZTNlYTgwYjE5ZWE2NmU',\n",
       "  'commit': {'author': {'name': 'AM',\n",
       "    'email': '',\n",
       "    'date': '2024-10-23T18:21:13Z'},\n",
       "   'committer': {'name': 'AM', 'email': '', 'date': '2024-10-23T18:21:13Z'},\n",
       "   'message': 'Tasks #1 and #2',\n",
       "   'tree': {'sha': '147276fe3ceaedc61102058932a1c108852ad730',\n",
       "    'url': 'https://api.github.com/repos/alexmk7/nlp-2024/git/trees/147276fe3ceaedc61102058932a1c108852ad730'},\n",
       "   'url': 'https://api.github.com/repos/alexmk7/nlp-2024/git/commits/aa8cc0c14ad805fb3603cc8255e3ea80b19ea66e',\n",
       "   'comment_count': 0,\n",
       "   'verification': {'verified': False,\n",
       "    'reason': 'unsigned',\n",
       "    'signature': None,\n",
       "    'payload': None,\n",
       "    'verified_at': None}},\n",
       "  'url': 'https://api.github.com/repos/alexmk7/nlp-2024/commits/aa8cc0c14ad805fb3603cc8255e3ea80b19ea66e',\n",
       "  'html_url': 'https://github.com/alexmk7/nlp-2024/commit/aa8cc0c14ad805fb3603cc8255e3ea80b19ea66e',\n",
       "  'comments_url': 'https://api.github.com/repos/alexmk7/nlp-2024/commits/aa8cc0c14ad805fb3603cc8255e3ea80b19ea66e/comments',\n",
       "  'author': {},\n",
       "  'committer': {},\n",
       "  'parents': [{'sha': '1c936a9048ec2b542cdf686c3d2586b1f1eb8edf',\n",
       "    'url': 'https://api.github.com/repos/alexmk7/nlp-2024/commits/1c936a9048ec2b542cdf686c3d2586b1f1eb8edf',\n",
       "    'html_url': 'https://github.com/alexmk7/nlp-2024/commit/1c936a9048ec2b542cdf686c3d2586b1f1eb8edf'}]},\n",
       " {'sha': '1c936a9048ec2b542cdf686c3d2586b1f1eb8edf',\n",
       "  'node_id': 'C_kwDOMvwEw9oAKDFjOTM2YTkwNDhlYzJiNTQyY2RmNjg2YzNkMjU4NmIxZjFlYjhlZGY',\n",
       "  'commit': {'author': {'name': 'AM',\n",
       "    'email': '',\n",
       "    'date': '2024-10-23T18:20:46Z'},\n",
       "   'committer': {'name': 'AM', 'email': '', 'date': '2024-10-23T18:20:46Z'},\n",
       "   'message': 'pt and w2v indtroduction',\n",
       "   'tree': {'sha': '3532cff4a1cd91ed2a5f40e9d9f160988fb442c0',\n",
       "    'url': 'https://api.github.com/repos/alexmk7/nlp-2024/git/trees/3532cff4a1cd91ed2a5f40e9d9f160988fb442c0'},\n",
       "   'url': 'https://api.github.com/repos/alexmk7/nlp-2024/git/commits/1c936a9048ec2b542cdf686c3d2586b1f1eb8edf',\n",
       "   'comment_count': 0,\n",
       "   'verification': {'verified': False,\n",
       "    'reason': 'unsigned',\n",
       "    'signature': None,\n",
       "    'payload': None,\n",
       "    'verified_at': None}},\n",
       "  'url': 'https://api.github.com/repos/alexmk7/nlp-2024/commits/1c936a9048ec2b542cdf686c3d2586b1f1eb8edf',\n",
       "  'html_url': 'https://github.com/alexmk7/nlp-2024/commit/1c936a9048ec2b542cdf686c3d2586b1f1eb8edf',\n",
       "  'comments_url': 'https://api.github.com/repos/alexmk7/nlp-2024/commits/1c936a9048ec2b542cdf686c3d2586b1f1eb8edf/comments',\n",
       "  'author': {},\n",
       "  'committer': {},\n",
       "  'parents': [{'sha': '2a829afec5856e2d7202ebca979edebefe1c432c',\n",
       "    'url': 'https://api.github.com/repos/alexmk7/nlp-2024/commits/2a829afec5856e2d7202ebca979edebefe1c432c',\n",
       "    'html_url': 'https://github.com/alexmk7/nlp-2024/commit/2a829afec5856e2d7202ebca979edebefe1c432c'}]},\n",
       " {'sha': '2a829afec5856e2d7202ebca979edebefe1c432c',\n",
       "  'node_id': 'C_kwDOMvwEw9oAKDJhODI5YWZlYzU4NTZlMmQ3MjAyZWJjYTk3OWVkZWJlZmUxYzQzMmM',\n",
       "  'commit': {'author': {'name': 'AM',\n",
       "    'email': '',\n",
       "    'date': '2024-10-16T22:14:26Z'},\n",
       "   'committer': {'name': 'AM', 'email': '', 'date': '2024-10-16T22:14:26Z'},\n",
       "   'message': '+torchviz',\n",
       "   'tree': {'sha': 'e465ac3bcf770f327fc62481071b084dcf7c3a46',\n",
       "    'url': 'https://api.github.com/repos/alexmk7/nlp-2024/git/trees/e465ac3bcf770f327fc62481071b084dcf7c3a46'},\n",
       "   'url': 'https://api.github.com/repos/alexmk7/nlp-2024/git/commits/2a829afec5856e2d7202ebca979edebefe1c432c',\n",
       "   'comment_count': 0,\n",
       "   'verification': {'verified': False,\n",
       "    'reason': 'unsigned',\n",
       "    'signature': None,\n",
       "    'payload': None,\n",
       "    'verified_at': None}},\n",
       "  'url': 'https://api.github.com/repos/alexmk7/nlp-2024/commits/2a829afec5856e2d7202ebca979edebefe1c432c',\n",
       "  'html_url': 'https://github.com/alexmk7/nlp-2024/commit/2a829afec5856e2d7202ebca979edebefe1c432c',\n",
       "  'comments_url': 'https://api.github.com/repos/alexmk7/nlp-2024/commits/2a829afec5856e2d7202ebca979edebefe1c432c/comments',\n",
       "  'author': {},\n",
       "  'committer': {},\n",
       "  'parents': [{'sha': 'ad0035b138498473ccfd541ccfa4c7fa93426828',\n",
       "    'url': 'https://api.github.com/repos/alexmk7/nlp-2024/commits/ad0035b138498473ccfd541ccfa4c7fa93426828',\n",
       "    'html_url': 'https://github.com/alexmk7/nlp-2024/commit/ad0035b138498473ccfd541ccfa4c7fa93426828'}]},\n",
       " {'sha': 'ad0035b138498473ccfd541ccfa4c7fa93426828',\n",
       "  'node_id': 'C_kwDOMvwEw9oAKGFkMDAzNWIxMzg0OTg0NzNjY2ZkNTQxY2NmYTRjN2ZhOTM0MjY4Mjg',\n",
       "  'commit': {'author': {'name': 'AM',\n",
       "    'email': '',\n",
       "    'date': '2024-10-16T22:13:54Z'},\n",
       "   'committer': {'name': 'AM', 'email': '', 'date': '2024-10-16T22:13:54Z'},\n",
       "   'message': 'BoW lecture',\n",
       "   'tree': {'sha': '77fc2db85eb3949d32b37fd8446a030aa1cf05d3',\n",
       "    'url': 'https://api.github.com/repos/alexmk7/nlp-2024/git/trees/77fc2db85eb3949d32b37fd8446a030aa1cf05d3'},\n",
       "   'url': 'https://api.github.com/repos/alexmk7/nlp-2024/git/commits/ad0035b138498473ccfd541ccfa4c7fa93426828',\n",
       "   'comment_count': 0,\n",
       "   'verification': {'verified': False,\n",
       "    'reason': 'unsigned',\n",
       "    'signature': None,\n",
       "    'payload': None,\n",
       "    'verified_at': None}},\n",
       "  'url': 'https://api.github.com/repos/alexmk7/nlp-2024/commits/ad0035b138498473ccfd541ccfa4c7fa93426828',\n",
       "  'html_url': 'https://github.com/alexmk7/nlp-2024/commit/ad0035b138498473ccfd541ccfa4c7fa93426828',\n",
       "  'comments_url': 'https://api.github.com/repos/alexmk7/nlp-2024/commits/ad0035b138498473ccfd541ccfa4c7fa93426828/comments',\n",
       "  'author': {},\n",
       "  'committer': {},\n",
       "  'parents': [{'sha': '97007ea0c6c9b6d987b6f15882fc811d56d36c94',\n",
       "    'url': 'https://api.github.com/repos/alexmk7/nlp-2024/commits/97007ea0c6c9b6d987b6f15882fc811d56d36c94',\n",
       "    'html_url': 'https://github.com/alexmk7/nlp-2024/commit/97007ea0c6c9b6d987b6f15882fc811d56d36c94'}]},\n",
       " {'sha': '97007ea0c6c9b6d987b6f15882fc811d56d36c94',\n",
       "  'node_id': 'C_kwDOMvwEw9oAKDk3MDA3ZWEwYzZjOWI2ZDk4N2I2ZjE1ODgyZmM4MTFkNTZkMzZjOTQ',\n",
       "  'commit': {'author': {'name': 'AM',\n",
       "    'email': '',\n",
       "    'date': '2024-10-02T21:27:53Z'},\n",
       "   'committer': {'name': 'AM', 'email': '', 'date': '2024-10-02T21:27:53Z'},\n",
       "   'message': 'CFG and yargy',\n",
       "   'tree': {'sha': 'b9150278740ec5793fe6c6f73113993bbd25c5b7',\n",
       "    'url': 'https://api.github.com/repos/alexmk7/nlp-2024/git/trees/b9150278740ec5793fe6c6f73113993bbd25c5b7'},\n",
       "   'url': 'https://api.github.com/repos/alexmk7/nlp-2024/git/commits/97007ea0c6c9b6d987b6f15882fc811d56d36c94',\n",
       "   'comment_count': 0,\n",
       "   'verification': {'verified': False,\n",
       "    'reason': 'unsigned',\n",
       "    'signature': None,\n",
       "    'payload': None,\n",
       "    'verified_at': None}},\n",
       "  'url': 'https://api.github.com/repos/alexmk7/nlp-2024/commits/97007ea0c6c9b6d987b6f15882fc811d56d36c94',\n",
       "  'html_url': 'https://github.com/alexmk7/nlp-2024/commit/97007ea0c6c9b6d987b6f15882fc811d56d36c94',\n",
       "  'comments_url': 'https://api.github.com/repos/alexmk7/nlp-2024/commits/97007ea0c6c9b6d987b6f15882fc811d56d36c94/comments',\n",
       "  'author': {},\n",
       "  'committer': {},\n",
       "  'parents': [{'sha': '10a98aa68a8b742281513af1c5dc0202003a70a8',\n",
       "    'url': 'https://api.github.com/repos/alexmk7/nlp-2024/commits/10a98aa68a8b742281513af1c5dc0202003a70a8',\n",
       "    'html_url': 'https://github.com/alexmk7/nlp-2024/commit/10a98aa68a8b742281513af1c5dc0202003a70a8'}]},\n",
       " {'sha': '10a98aa68a8b742281513af1c5dc0202003a70a8',\n",
       "  'node_id': 'C_kwDOMvwEw9oAKDEwYTk4YWE2OGE4Yjc0MjI4MTUxM2FmMWM1ZGMwMjAyMDAzYTcwYTg',\n",
       "  'commit': {'author': {'name': 'AM',\n",
       "    'email': '',\n",
       "    'date': '2024-09-11T10:42:50Z'},\n",
       "   'committer': {'name': 'AM', 'email': '', 'date': '2024-09-11T10:42:50Z'},\n",
       "   'message': 'Stemming',\n",
       "   'tree': {'sha': 'dc029b9f2f5cfd74c61da03607839b6aa98b5403',\n",
       "    'url': 'https://api.github.com/repos/alexmk7/nlp-2024/git/trees/dc029b9f2f5cfd74c61da03607839b6aa98b5403'},\n",
       "   'url': 'https://api.github.com/repos/alexmk7/nlp-2024/git/commits/10a98aa68a8b742281513af1c5dc0202003a70a8',\n",
       "   'comment_count': 0,\n",
       "   'verification': {'verified': False,\n",
       "    'reason': 'unsigned',\n",
       "    'signature': None,\n",
       "    'payload': None,\n",
       "    'verified_at': None}},\n",
       "  'url': 'https://api.github.com/repos/alexmk7/nlp-2024/commits/10a98aa68a8b742281513af1c5dc0202003a70a8',\n",
       "  'html_url': 'https://github.com/alexmk7/nlp-2024/commit/10a98aa68a8b742281513af1c5dc0202003a70a8',\n",
       "  'comments_url': 'https://api.github.com/repos/alexmk7/nlp-2024/commits/10a98aa68a8b742281513af1c5dc0202003a70a8/comments',\n",
       "  'author': {},\n",
       "  'committer': {},\n",
       "  'parents': [{'sha': '7fddabf284255cedccfcbb97234a2d6c27e3cc5f',\n",
       "    'url': 'https://api.github.com/repos/alexmk7/nlp-2024/commits/7fddabf284255cedccfcbb97234a2d6c27e3cc5f',\n",
       "    'html_url': 'https://github.com/alexmk7/nlp-2024/commit/7fddabf284255cedccfcbb97234a2d6c27e3cc5f'}]},\n",
       " {'sha': '7fddabf284255cedccfcbb97234a2d6c27e3cc5f',\n",
       "  'node_id': 'C_kwDOMvwEw9oAKDdmZGRhYmYyODQyNTVjZWRjY2ZjYmI5NzIzNGEyZDZjMjdlM2NjNWY',\n",
       "  'commit': {'author': {'name': 'AM',\n",
       "    'email': '',\n",
       "    'date': '2024-09-10T20:17:38Z'},\n",
       "   'committer': {'name': 'AM', 'email': '', 'date': '2024-09-10T20:17:38Z'},\n",
       "   'message': 'Initial commit',\n",
       "   'tree': {'sha': 'de6023310b90a508d0dc65e2bf41dd8dc30de6cf',\n",
       "    'url': 'https://api.github.com/repos/alexmk7/nlp-2024/git/trees/de6023310b90a508d0dc65e2bf41dd8dc30de6cf'},\n",
       "   'url': 'https://api.github.com/repos/alexmk7/nlp-2024/git/commits/7fddabf284255cedccfcbb97234a2d6c27e3cc5f',\n",
       "   'comment_count': 0,\n",
       "   'verification': {'verified': False,\n",
       "    'reason': 'unsigned',\n",
       "    'signature': None,\n",
       "    'payload': None,\n",
       "    'verified_at': None}},\n",
       "  'url': 'https://api.github.com/repos/alexmk7/nlp-2024/commits/7fddabf284255cedccfcbb97234a2d6c27e3cc5f',\n",
       "  'html_url': 'https://github.com/alexmk7/nlp-2024/commit/7fddabf284255cedccfcbb97234a2d6c27e3cc5f',\n",
       "  'comments_url': 'https://api.github.com/repos/alexmk7/nlp-2024/commits/7fddabf284255cedccfcbb97234a2d6c27e3cc5f/comments',\n",
       "  'author': {},\n",
       "  'committer': {},\n",
       "  'parents': []}]"
      ]
     },
     "execution_count": 5,
     "metadata": {},
     "output_type": "execute_result"
    }
   ],
   "source": [
    "content = response.json()\n",
    "content"
   ]
  },
  {
   "cell_type": "code",
   "execution_count": 6,
   "metadata": {},
   "outputs": [
    {
     "data": {
      "text/plain": [
       "{'sha': 'b640952f36dc2e7f7c3ff5e7df868692a1bc88a3',\n",
       " 'node_id': 'C_kwDOMvwEw9oAKGI2NDA5NTJmMzZkYzJlN2Y3YzNmZjVlN2RmODY4NjkyYTFiYzg4YTM',\n",
       " 'commit': {'author': {'name': 'AM',\n",
       "   'email': '',\n",
       "   'date': '2024-11-20T10:20:27Z'},\n",
       "  'committer': {'name': 'AM', 'email': '', 'date': '2024-11-20T10:20:27Z'},\n",
       "  'message': 'Task #3',\n",
       "  'tree': {'sha': '741b0fab2aa8d265e993368393e4de4b9a70acf7',\n",
       "   'url': 'https://api.github.com/repos/alexmk7/nlp-2024/git/trees/741b0fab2aa8d265e993368393e4de4b9a70acf7'},\n",
       "  'url': 'https://api.github.com/repos/alexmk7/nlp-2024/git/commits/b640952f36dc2e7f7c3ff5e7df868692a1bc88a3',\n",
       "  'comment_count': 0,\n",
       "  'verification': {'verified': False,\n",
       "   'reason': 'unsigned',\n",
       "   'signature': None,\n",
       "   'payload': None,\n",
       "   'verified_at': None}},\n",
       " 'url': 'https://api.github.com/repos/alexmk7/nlp-2024/commits/b640952f36dc2e7f7c3ff5e7df868692a1bc88a3',\n",
       " 'html_url': 'https://github.com/alexmk7/nlp-2024/commit/b640952f36dc2e7f7c3ff5e7df868692a1bc88a3',\n",
       " 'comments_url': 'https://api.github.com/repos/alexmk7/nlp-2024/commits/b640952f36dc2e7f7c3ff5e7df868692a1bc88a3/comments',\n",
       " 'author': {},\n",
       " 'committer': {},\n",
       " 'parents': [{'sha': 'aa8cc0c14ad805fb3603cc8255e3ea80b19ea66e',\n",
       "   'url': 'https://api.github.com/repos/alexmk7/nlp-2024/commits/aa8cc0c14ad805fb3603cc8255e3ea80b19ea66e',\n",
       "   'html_url': 'https://github.com/alexmk7/nlp-2024/commit/aa8cc0c14ad805fb3603cc8255e3ea80b19ea66e'}]}"
      ]
     },
     "execution_count": 6,
     "metadata": {},
     "output_type": "execute_result"
    }
   ],
   "source": [
    "content[0]"
   ]
  },
  {
   "cell_type": "markdown",
   "metadata": {},
   "source": [
    "интересующие поля:\n",
    "* commit -> committer -> name\n",
    "* commit -> committer -> date\n",
    "* commit -> message "
   ]
  },
  {
   "cell_type": "code",
   "execution_count": 13,
   "metadata": {},
   "outputs": [
    {
     "data": {
      "text/plain": [
       "'Task #3'"
      ]
     },
     "execution_count": 13,
     "metadata": {},
     "output_type": "execute_result"
    }
   ],
   "source": [
    "content[0][\"commit\"][\"message\"]"
   ]
  },
  {
   "cell_type": "code",
   "execution_count": 14,
   "metadata": {},
   "outputs": [
    {
     "data": {
      "text/plain": [
       "'AM'"
      ]
     },
     "execution_count": 14,
     "metadata": {},
     "output_type": "execute_result"
    }
   ],
   "source": [
    "content[0][\"commit\"][\"committer\"][\"name\"]"
   ]
  },
  {
   "cell_type": "code",
   "execution_count": 15,
   "metadata": {},
   "outputs": [
    {
     "data": {
      "text/plain": [
       "'2024-11-20T10:20:27Z'"
      ]
     },
     "execution_count": 15,
     "metadata": {},
     "output_type": "execute_result"
    }
   ],
   "source": [
    "content[0][\"commit\"][\"committer\"][\"date\"]"
   ]
  },
  {
   "cell_type": "code",
   "execution_count": 4,
   "metadata": {},
   "outputs": [],
   "source": [
    "data = {\n",
    "    \"commit_id\": \"l1\",\n",
    "    \"author\": \"name1\",\n",
    "    \"commit_message\": \"message1\",\n",
    "    \"commit_date\": \"2024-10-12\"\n",
    "}"
   ]
  },
  {
   "cell_type": "code",
   "execution_count": 1,
   "metadata": {},
   "outputs": [],
   "source": [
    "from confluent_kafka import Producer\n",
    "\n",
    "# конфигурация Producer'а\n",
    "config = {\n",
    "    'bootstrap.servers': 'kafka:9092',\n",
    "}\n",
    "producer = Producer(config)"
   ]
  },
  {
   "cell_type": "code",
   "execution_count": 2,
   "metadata": {},
   "outputs": [],
   "source": [
    "def send_message(topic, data):\n",
    "    producer.produce(topic, value=data)\n",
    "    producer.flush()"
   ]
  },
  {
   "cell_type": "code",
   "execution_count": null,
   "metadata": {},
   "outputs": [
    {
     "name": "stderr",
     "output_type": "stream",
     "text": [
      "%3|1734198404.023|FAIL|rdkafka#producer-2| [thrd:kafka:9092/1]: kafka:9092/1: Failed to resolve 'kafka:9092': Name or service not known (after 2034ms in state CONNECT)\n",
      "%3|1734198407.071|FAIL|rdkafka#producer-2| [thrd:kafka:9092/1]: kafka:9092/1: Failed to resolve 'kafka:9092': Name or service not known (after 2047ms in state CONNECT, 1 identical error(s) suppressed)\n",
      "%3|1734198438.012|FAIL|rdkafka#producer-2| [thrd:kafka:9092/1]: kafka:9092/1: Failed to resolve 'kafka:9092': Name or service not known (after 2058ms in state CONNECT, 7 identical error(s) suppressed)\n",
      "%3|1734198474.929|FAIL|rdkafka#producer-2| [thrd:kafka:9092/1]: kafka:9092/1: Failed to resolve 'kafka:9092': Name or service not known (after 2035ms in state CONNECT, 4 identical error(s) suppressed)\n"
     ]
    }
   ],
   "source": [
    "import json\n",
    "send_message(\"github_topic_3\", json.dumps(data))"
   ]
  },
  {
   "cell_type": "code",
   "execution_count": 31,
   "metadata": {},
   "outputs": [],
   "source": [
    "send_message('github_topic', 'Hello Kafka World!')"
   ]
  },
  {
   "cell_type": "markdown",
   "metadata": {},
   "source": [
    "# попытка выслать в топик целевые данные\n",
    "В качестве consumer выступает clickhouse с engine=Kafka"
   ]
  },
  {
   "cell_type": "code",
   "execution_count": 4,
   "metadata": {},
   "outputs": [],
   "source": [
    "import json\n",
    "# data = {\n",
    "#     \"commit_id\": \"i3\",\n",
    "#     \"author\": \"name3\",\n",
    "#     \"message\": \"message3\",\n",
    "#     \"commit_date\": \"2024-10-11\"\n",
    "# }\n",
    "data = {\n",
    "    'commit_id': 'alkjdasdlsdlck13900d',\n",
    "    'author': 'Ivan M',\n",
    "    'commit_message': 'Message2', \n",
    "    'commit_date': '2024-12-02'\n",
    "}\n",
    "\n",
    "\n",
    "send_message(topic='commits_topic',\n",
    "             data=json.dumps(data))"
   ]
  },
  {
   "cell_type": "markdown",
   "metadata": {},
   "source": [
    "kafka-console-consumer.sh --bootstrap-server kafka:9092 --topic github_commits_topic --from-beginning"
   ]
  },
  {
   "cell_type": "code",
   "execution_count": 10,
   "metadata": {},
   "outputs": [
    {
     "name": "stdout",
     "output_type": "stream",
     "text": [
      "Отправляем {'commit_id': 'b640952f36dc2e7f7c3ff5e7df868692a1bc88a312903', 'author': 'AM', 'message': 'Task #3', 'commit_date': '2024-11-20'}\n",
      "Отправляем {'commit_id': 'aa8cc0c14ad805fb3603cc8255e3ea80b19ea66e12903', 'author': 'AM', 'message': 'Tasks #1 and #2', 'commit_date': '2024-10-23'}\n",
      "Отправляем {'commit_id': '1c936a9048ec2b542cdf686c3d2586b1f1eb8edf12903', 'author': 'AM', 'message': 'pt and w2v indtroduction', 'commit_date': '2024-10-23'}\n",
      "Отправляем {'commit_id': '2a829afec5856e2d7202ebca979edebefe1c432c12903', 'author': 'AM', 'message': '+torchviz', 'commit_date': '2024-10-16'}\n",
      "Отправляем {'commit_id': 'ad0035b138498473ccfd541ccfa4c7fa9342682812903', 'author': 'AM', 'message': 'BoW lecture', 'commit_date': '2024-10-16'}\n",
      "Отправляем {'commit_id': '97007ea0c6c9b6d987b6f15882fc811d56d36c9412903', 'author': 'AM', 'message': 'CFG and yargy', 'commit_date': '2024-10-02'}\n",
      "Отправляем {'commit_id': '10a98aa68a8b742281513af1c5dc0202003a70a812903', 'author': 'AM', 'message': 'Stemming', 'commit_date': '2024-09-11'}\n",
      "Отправляем {'commit_id': '7fddabf284255cedccfcbb97234a2d6c27e3cc5f12903', 'author': 'AM', 'message': 'Initial commit', 'commit_date': '2024-09-10'}\n"
     ]
    }
   ],
   "source": [
    "import time\n",
    "import json\n",
    "for commit in content:\n",
    "    \n",
    "    sha = commit[\"sha\"]\n",
    "    message = commit[\"commit\"][\"message\"]\n",
    "    author = commit[\"commit\"][\"author\"][\"name\"]\n",
    "    date = commit[\"commit\"][\"author\"][\"date\"][:10]\n",
    "\n",
    "    commit_data = {\n",
    "        \"commit_id\": sha + '12903',\n",
    "        \"author\": author,\n",
    "        \"message\": message,\n",
    "        \"commit_date\": date\n",
    "    }\n",
    "    print(f'Отправляем {commit_data}')\n",
    "    send_message(\"github_commits_topic\", \n",
    "                 json.dumps(commit_data))\n",
    "    time.sleep(5)"
   ]
  },
  {
   "cell_type": "code",
   "execution_count": null,
   "metadata": {},
   "outputs": [],
   "source": []
  }
 ],
 "metadata": {
  "kernelspec": {
   "display_name": "venv",
   "language": "python",
   "name": "python3"
  },
  "language_info": {
   "codemirror_mode": {
    "name": "ipython",
    "version": 3
   },
   "file_extension": ".py",
   "mimetype": "text/x-python",
   "name": "python",
   "nbconvert_exporter": "python",
   "pygments_lexer": "ipython3",
   "version": "3.10.12"
  }
 },
 "nbformat": 4,
 "nbformat_minor": 2
}
